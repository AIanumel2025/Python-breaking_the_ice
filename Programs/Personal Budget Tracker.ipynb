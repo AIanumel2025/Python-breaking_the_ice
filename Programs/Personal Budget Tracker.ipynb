{
  "metadata": {
    "kernelspec": {
      "name": "xpython",
      "display_name": "Python 3.13 (XPython)",
      "language": "python"
    },
    "language_info": {
      "file_extension": ".py",
      "mimetype": "text/x-python",
      "name": "python",
      "version": "3.13.1"
    }
  },
  "nbformat_minor": 5,
  "nbformat": 4,
  "cells": [
    {
      "id": "29421693-2506-447f-afd6-7bcc6d085837",
      "cell_type": "code",
      "source": "# Personal Budget Tracker\n\n# Collect Financial Transactions and store in dictionary\n\ndict_budg = {}\n\nnum = int(input('How many entries?: '))\n\nfor _ in range(num):\n    cat = input('Category: ')\n    amnt = input('Amount: ')\n    amnt_lst = amnt.split()\n    amnt_lst = [int(n) for n in amnt.split()]\n    dict_budg[cat] = amnt_lst\n    \nprint('Your budget:', dict_budg)\n",
      "metadata": {
        "trusted": true
      },
      "outputs": [
        {
          "output_type": "stream",
          "name": "stdin",
          "text": "How many entries?:  5\nCategory:  Groceries\nAmount:  45 23 67 12 13\nCategory:  Salary\nAmount:  5000\nCategory:  Rent\nAmount:  2000\nCategory:  Phone Bill\nAmount:  30\nCategory:  Investments\nAmount:  500\n"
        },
        {
          "name": "stdout",
          "output_type": "stream",
          "text": "Your budget: {'Groceries': [45, 23, 67, 12, 13], 'Salary': [5000], 'Rent': [2000], 'Phone Bill': [30], 'Investments': [500]}\n"
        }
      ],
      "execution_count": 18
    },
    {
      "id": "cdda4866-5441-42c7-9e34-43fe1628c5dd",
      "cell_type": "code",
      "source": "",
      "metadata": {
        "trusted": true
      },
      "outputs": [],
      "execution_count": null
    }
  ]
}