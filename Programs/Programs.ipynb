{
  "metadata": {
    "kernelspec": {
      "name": "xpython",
      "display_name": "Python 3.13 (XPython)",
      "language": "python"
    },
    "language_info": {
      "file_extension": ".py",
      "mimetype": "text/x-python",
      "name": "python",
      "version": "3.13.1"
    }
  },
  "nbformat_minor": 5,
  "nbformat": 4,
  "cells": [
    {
      "id": "2418c9b1-c677-4d8e-9cda-d7c2a9ed7c7f",
      "cell_type": "code",
      "source": "# Pet repository program\n\npet_repository = ['Daisy', 'Michelle', 'Butch', 'Elena', 'Ethan', 'Tony']\npetName = input('Please input your pet name here: ')\nwhile True:\n    petName not in pet_repository\n    print('Not found, try again: ')\n    petName = input('Please input your pet name here: ')\n    if petName in pet_repository:\n        print('FOUND')\n        break\nprint('Thank you have a nice day!')\n        ",
      "metadata": {
        "trusted": true
      },
      "outputs": [],
      "execution_count": null
    },
    {
      "id": "50bf0f1a-3903-4cf8-8dc2-97d8041ff0dc",
      "cell_type": "code",
      "source": "# Fun 99 bottles of beer\n\nent = int(input('How many bottles of beer to start with?: '))\n\nfor ent in range(ent+1, 0, -1):\n    if ent > 1:\n        print(ent, 'bottles of beer on the wall', ent, 'bottles of beer')\n        print('Take it down, pass it around', ent-1, 'bottles of beer on the wall')\n        print()\nelse:\n    print(ent, 'bottle of beer on the wall', ent, 'bottle of beer')\n    print('Take it down, pass it around', ent-1, 'bottles of beer on the wall')\n    print()\nprint('No more bottles of beer on the wall, no more bottles of beer!')\nprint('Go to the store and buy some more, 99 bottles of beer on the wall!')\n          ",
      "metadata": {
        "trusted": true
      },
      "outputs": [],
      "execution_count": null
    },
    {
      "id": "3772264d-6724-4a61-939c-d669e9131c1e",
      "cell_type": "code",
      "source": "\n# Class average and performance level program\n\n# Input 5 student names\n\nname_list = []\nfor name in range(5):\n    name = str(input('Student Name: '))\n    name_list.append(name)\n\n# Input student scores\ncount = 5\ntotal = 0\nscore_list = []\nfor score in range(5):\n    score = int(input('Student Score: '))\n    score_list.append(score)\n    total += score\n\n# Calculate class average and performance level \n    \naverage = total / count\nif average <= 50:\n    print('Class APPROACHED')\nelif 50 <= average <= 70:\n    print('Class MET Grade level')\nelse:\n    average >= 70\n    print('Class MASTERED')\n    \nprint('The class average is:', average)\nprint(name_list)\nprint(score_list)",
      "metadata": {
        "trusted": true
      },
      "outputs": [],
      "execution_count": null
    }
  ]
}